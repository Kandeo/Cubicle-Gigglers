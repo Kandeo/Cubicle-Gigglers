{
  "nbformat": 4,
  "nbformat_minor": 0,
  "metadata": {
    "colab": {
      "name": "Cubicle Gigglers Notebook",
      "provenance": [],
      "collapsed_sections": [],
      "toc_visible": true,
      "authorship_tag": "ABX9TyM7iMCVpSMGpcP64pEsdasv",
      "include_colab_link": true
    },
    "kernelspec": {
      "name": "python3",
      "display_name": "Python 3"
    },
    "language_info": {
      "name": "python"
    }
  },
  "cells": [
    {
      "cell_type": "markdown",
      "metadata": {
        "id": "view-in-github",
        "colab_type": "text"
      },
      "source": [
        "<a href=\"https://colab.research.google.com/github/Kandeo/Project/blob/main/Cubicle_Gigglers_Notebook.ipynb\" target=\"_parent\"><img src=\"https://colab.research.google.com/assets/colab-badge.svg\" alt=\"Open In Colab\"/></a>"
      ]
    },
    {
      "cell_type": "markdown",
      "metadata": {
        "id": "JbKndojVVVHS"
      },
      "source": [
        "  # Global Power Plant Data Analysis\n",
        "# Overview\n",
        "\n",
        "Over the years, production of electricity has been taking huge strides towards reducing the use of non-renewable resources.\n",
        "Approximately 40% of global carbon dioxide emissions are emitted from electricity generation through the combustion of fossil fuels {Coal, Oil and Gas} to generate heat needed to power steam turbines. Burning these fuels results in the production of carbon dioxide — the primary heat-trapping, “greenhouse gas” responsible for global warming.\n",
        "\n",
        "On the other hand, electricity from renewable resources such as solar, geothermal, and wind generally does not contribute to climate change or local air pollution since no fuels are combusted.\n",
        "Due to that we venture into this research with the aim of looking at the global electricity production by source  and if it bears any effect to the environment. \n",
        "\n",
        "Objectives:\n",
        "\n",
        "1. Identify the Largest source of electricity Production\n",
        "2. Global Energy Consumption per Primary Fuel\n",
        "3. Finding the Largest Electricity Generating Countries.\n",
        "4. Relate the number of Power plants in a country to Total Production\n",
        "5. Highlight the energy Source Based on Renewable/Non-renewable accounting  for the highest consumption.\n",
        "6. Countries leading in  usage of Renewable/Non-renewable sources.\n",
        "7. Relating the Global energy Consumption to the Kenyan context.\n",
        "\n",
        "Dataset Link: https://datasets.wri.org/dataset/globalpowerplantdatabase \n",
        "\n",
        " \n"
      ]
    },
    {
      "cell_type": "markdown",
      "metadata": {
        "id": "nFmkGNaMdf4n"
      },
      "source": [
        "# Loading Our Dataset"
      ]
    },
    {
      "cell_type": "markdown",
      "metadata": {
        "id": "uoty17o-fBhx"
      },
      "source": [
        "Importing Libraries"
      ]
    },
    {
      "cell_type": "code",
      "metadata": {
        "id": "A6pHd290e_jX"
      },
      "source": [
        "#Importing the Pandas Library:\n",
        "import pandas as pd \n",
        "\n",
        "#Importing the Numpy Library:\n",
        "import numpy as np\n",
        "\n",
        "#Importing matplot Library:\n",
        "import matplotlib.pyplot as plt\n"
      ],
      "execution_count": null,
      "outputs": []
    },
    {
      "cell_type": "markdown",
      "metadata": {
        "id": "3TI0nfyCfFuK"
      },
      "source": [
        "Reading the Dataset"
      ]
    },
    {
      "cell_type": "code",
      "metadata": {
        "colab": {
          "base_uri": "https://localhost:8080/",
          "height": 452
        },
        "id": "NkIO1CqLdfYL",
        "outputId": "76799141-813b-4c24-d12f-9f9806bf56d0"
      },
      "source": [
        "#Reading the data from our CSV File:\n",
        "df = pd.read_csv('global_power_plant_database.csv')\n",
        "\n",
        "#Previewing the first 5 rows:\n",
        "df.head(5)"
      ],
      "execution_count": null,
      "outputs": [
        {
          "output_type": "stream",
          "name": "stderr",
          "text": [
            "/usr/local/lib/python3.7/dist-packages/IPython/core/interactiveshell.py:2718: DtypeWarning: Columns (10) have mixed types.Specify dtype option on import or set low_memory=False.\n",
            "  interactivity=interactivity, compiler=compiler, result=result)\n"
          ]
        },
        {
          "output_type": "execute_result",
          "data": {
            "text/html": [
              "<div>\n",
              "<style scoped>\n",
              "    .dataframe tbody tr th:only-of-type {\n",
              "        vertical-align: middle;\n",
              "    }\n",
              "\n",
              "    .dataframe tbody tr th {\n",
              "        vertical-align: top;\n",
              "    }\n",
              "\n",
              "    .dataframe thead th {\n",
              "        text-align: right;\n",
              "    }\n",
              "</style>\n",
              "<table border=\"1\" class=\"dataframe\">\n",
              "  <thead>\n",
              "    <tr style=\"text-align: right;\">\n",
              "      <th></th>\n",
              "      <th>country</th>\n",
              "      <th>country_long</th>\n",
              "      <th>name</th>\n",
              "      <th>gppd_idnr</th>\n",
              "      <th>capacity_mw</th>\n",
              "      <th>latitude</th>\n",
              "      <th>longitude</th>\n",
              "      <th>primary_fuel</th>\n",
              "      <th>other_fuel1</th>\n",
              "      <th>other_fuel2</th>\n",
              "      <th>other_fuel3</th>\n",
              "      <th>commissioning_year</th>\n",
              "      <th>owner</th>\n",
              "      <th>source</th>\n",
              "      <th>url</th>\n",
              "      <th>geolocation_source</th>\n",
              "      <th>wepp_id</th>\n",
              "      <th>year_of_capacity_data</th>\n",
              "      <th>generation_gwh_2013</th>\n",
              "      <th>generation_gwh_2014</th>\n",
              "      <th>generation_gwh_2015</th>\n",
              "      <th>generation_gwh_2016</th>\n",
              "      <th>generation_gwh_2017</th>\n",
              "      <th>generation_gwh_2018</th>\n",
              "      <th>generation_gwh_2019</th>\n",
              "      <th>generation_data_source</th>\n",
              "      <th>estimated_generation_gwh_2013</th>\n",
              "      <th>estimated_generation_gwh_2014</th>\n",
              "      <th>estimated_generation_gwh_2015</th>\n",
              "      <th>estimated_generation_gwh_2016</th>\n",
              "      <th>estimated_generation_gwh_2017</th>\n",
              "      <th>estimated_generation_note_2013</th>\n",
              "      <th>estimated_generation_note_2014</th>\n",
              "      <th>estimated_generation_note_2015</th>\n",
              "      <th>estimated_generation_note_2016</th>\n",
              "      <th>estimated_generation_note_2017</th>\n",
              "    </tr>\n",
              "  </thead>\n",
              "  <tbody>\n",
              "    <tr>\n",
              "      <th>0</th>\n",
              "      <td>AFG</td>\n",
              "      <td>Afghanistan</td>\n",
              "      <td>Kajaki Hydroelectric Power Plant Afghanistan</td>\n",
              "      <td>GEODB0040538</td>\n",
              "      <td>33.0</td>\n",
              "      <td>32.322</td>\n",
              "      <td>65.1190</td>\n",
              "      <td>Hydro</td>\n",
              "      <td>NaN</td>\n",
              "      <td>NaN</td>\n",
              "      <td>NaN</td>\n",
              "      <td>NaN</td>\n",
              "      <td>NaN</td>\n",
              "      <td>GEODB</td>\n",
              "      <td>http://globalenergyobservatory.org</td>\n",
              "      <td>GEODB</td>\n",
              "      <td>1009793</td>\n",
              "      <td>2017.0</td>\n",
              "      <td>NaN</td>\n",
              "      <td>NaN</td>\n",
              "      <td>NaN</td>\n",
              "      <td>NaN</td>\n",
              "      <td>NaN</td>\n",
              "      <td>NaN</td>\n",
              "      <td>NaN</td>\n",
              "      <td>NaN</td>\n",
              "      <td>123.77</td>\n",
              "      <td>162.90</td>\n",
              "      <td>97.39</td>\n",
              "      <td>137.76</td>\n",
              "      <td>119.50</td>\n",
              "      <td>HYDRO-V1</td>\n",
              "      <td>HYDRO-V1</td>\n",
              "      <td>HYDRO-V1</td>\n",
              "      <td>HYDRO-V1</td>\n",
              "      <td>HYDRO-V1</td>\n",
              "    </tr>\n",
              "    <tr>\n",
              "      <th>1</th>\n",
              "      <td>AFG</td>\n",
              "      <td>Afghanistan</td>\n",
              "      <td>Kandahar DOG</td>\n",
              "      <td>WKS0070144</td>\n",
              "      <td>10.0</td>\n",
              "      <td>31.670</td>\n",
              "      <td>65.7950</td>\n",
              "      <td>Solar</td>\n",
              "      <td>NaN</td>\n",
              "      <td>NaN</td>\n",
              "      <td>NaN</td>\n",
              "      <td>NaN</td>\n",
              "      <td>NaN</td>\n",
              "      <td>Wiki-Solar</td>\n",
              "      <td>https://www.wiki-solar.org</td>\n",
              "      <td>Wiki-Solar</td>\n",
              "      <td>NaN</td>\n",
              "      <td>NaN</td>\n",
              "      <td>NaN</td>\n",
              "      <td>NaN</td>\n",
              "      <td>NaN</td>\n",
              "      <td>NaN</td>\n",
              "      <td>NaN</td>\n",
              "      <td>NaN</td>\n",
              "      <td>NaN</td>\n",
              "      <td>NaN</td>\n",
              "      <td>18.43</td>\n",
              "      <td>17.48</td>\n",
              "      <td>18.25</td>\n",
              "      <td>17.70</td>\n",
              "      <td>18.29</td>\n",
              "      <td>SOLAR-V1-NO-AGE</td>\n",
              "      <td>SOLAR-V1-NO-AGE</td>\n",
              "      <td>SOLAR-V1-NO-AGE</td>\n",
              "      <td>SOLAR-V1-NO-AGE</td>\n",
              "      <td>SOLAR-V1-NO-AGE</td>\n",
              "    </tr>\n",
              "    <tr>\n",
              "      <th>2</th>\n",
              "      <td>AFG</td>\n",
              "      <td>Afghanistan</td>\n",
              "      <td>Kandahar JOL</td>\n",
              "      <td>WKS0071196</td>\n",
              "      <td>10.0</td>\n",
              "      <td>31.623</td>\n",
              "      <td>65.7920</td>\n",
              "      <td>Solar</td>\n",
              "      <td>NaN</td>\n",
              "      <td>NaN</td>\n",
              "      <td>NaN</td>\n",
              "      <td>NaN</td>\n",
              "      <td>NaN</td>\n",
              "      <td>Wiki-Solar</td>\n",
              "      <td>https://www.wiki-solar.org</td>\n",
              "      <td>Wiki-Solar</td>\n",
              "      <td>NaN</td>\n",
              "      <td>NaN</td>\n",
              "      <td>NaN</td>\n",
              "      <td>NaN</td>\n",
              "      <td>NaN</td>\n",
              "      <td>NaN</td>\n",
              "      <td>NaN</td>\n",
              "      <td>NaN</td>\n",
              "      <td>NaN</td>\n",
              "      <td>NaN</td>\n",
              "      <td>18.64</td>\n",
              "      <td>17.58</td>\n",
              "      <td>19.10</td>\n",
              "      <td>17.62</td>\n",
              "      <td>18.72</td>\n",
              "      <td>SOLAR-V1-NO-AGE</td>\n",
              "      <td>SOLAR-V1-NO-AGE</td>\n",
              "      <td>SOLAR-V1-NO-AGE</td>\n",
              "      <td>SOLAR-V1-NO-AGE</td>\n",
              "      <td>SOLAR-V1-NO-AGE</td>\n",
              "    </tr>\n",
              "    <tr>\n",
              "      <th>3</th>\n",
              "      <td>AFG</td>\n",
              "      <td>Afghanistan</td>\n",
              "      <td>Mahipar Hydroelectric Power Plant Afghanistan</td>\n",
              "      <td>GEODB0040541</td>\n",
              "      <td>66.0</td>\n",
              "      <td>34.556</td>\n",
              "      <td>69.4787</td>\n",
              "      <td>Hydro</td>\n",
              "      <td>NaN</td>\n",
              "      <td>NaN</td>\n",
              "      <td>NaN</td>\n",
              "      <td>NaN</td>\n",
              "      <td>NaN</td>\n",
              "      <td>GEODB</td>\n",
              "      <td>http://globalenergyobservatory.org</td>\n",
              "      <td>GEODB</td>\n",
              "      <td>1009795</td>\n",
              "      <td>2017.0</td>\n",
              "      <td>NaN</td>\n",
              "      <td>NaN</td>\n",
              "      <td>NaN</td>\n",
              "      <td>NaN</td>\n",
              "      <td>NaN</td>\n",
              "      <td>NaN</td>\n",
              "      <td>NaN</td>\n",
              "      <td>NaN</td>\n",
              "      <td>225.06</td>\n",
              "      <td>203.55</td>\n",
              "      <td>146.90</td>\n",
              "      <td>230.18</td>\n",
              "      <td>174.91</td>\n",
              "      <td>HYDRO-V1</td>\n",
              "      <td>HYDRO-V1</td>\n",
              "      <td>HYDRO-V1</td>\n",
              "      <td>HYDRO-V1</td>\n",
              "      <td>HYDRO-V1</td>\n",
              "    </tr>\n",
              "    <tr>\n",
              "      <th>4</th>\n",
              "      <td>AFG</td>\n",
              "      <td>Afghanistan</td>\n",
              "      <td>Naghlu Dam Hydroelectric Power Plant Afghanistan</td>\n",
              "      <td>GEODB0040534</td>\n",
              "      <td>100.0</td>\n",
              "      <td>34.641</td>\n",
              "      <td>69.7170</td>\n",
              "      <td>Hydro</td>\n",
              "      <td>NaN</td>\n",
              "      <td>NaN</td>\n",
              "      <td>NaN</td>\n",
              "      <td>NaN</td>\n",
              "      <td>NaN</td>\n",
              "      <td>GEODB</td>\n",
              "      <td>http://globalenergyobservatory.org</td>\n",
              "      <td>GEODB</td>\n",
              "      <td>1009797</td>\n",
              "      <td>2017.0</td>\n",
              "      <td>NaN</td>\n",
              "      <td>NaN</td>\n",
              "      <td>NaN</td>\n",
              "      <td>NaN</td>\n",
              "      <td>NaN</td>\n",
              "      <td>NaN</td>\n",
              "      <td>NaN</td>\n",
              "      <td>NaN</td>\n",
              "      <td>406.16</td>\n",
              "      <td>357.22</td>\n",
              "      <td>270.99</td>\n",
              "      <td>395.38</td>\n",
              "      <td>350.80</td>\n",
              "      <td>HYDRO-V1</td>\n",
              "      <td>HYDRO-V1</td>\n",
              "      <td>HYDRO-V1</td>\n",
              "      <td>HYDRO-V1</td>\n",
              "      <td>HYDRO-V1</td>\n",
              "    </tr>\n",
              "  </tbody>\n",
              "</table>\n",
              "</div>"
            ],
            "text/plain": [
              "  country  ... estimated_generation_note_2017\n",
              "0     AFG  ...                       HYDRO-V1\n",
              "1     AFG  ...                SOLAR-V1-NO-AGE\n",
              "2     AFG  ...                SOLAR-V1-NO-AGE\n",
              "3     AFG  ...                       HYDRO-V1\n",
              "4     AFG  ...                       HYDRO-V1\n",
              "\n",
              "[5 rows x 36 columns]"
            ]
          },
          "metadata": {},
          "execution_count": 11
        }
      ]
    },
    {
      "cell_type": "markdown",
      "metadata": {
        "id": "i6m2hKrgedB_"
      },
      "source": [
        "Accessing Information on the Dataset"
      ]
    },
    {
      "cell_type": "code",
      "metadata": {
        "colab": {
          "base_uri": "https://localhost:8080/"
        },
        "id": "VYf8o3HeecKQ",
        "outputId": "32e76f83-b24a-455d-bf69-a949054f6944"
      },
      "source": [
        "#To get information about our dataset:\n",
        "df.info()"
      ],
      "execution_count": null,
      "outputs": [
        {
          "output_type": "stream",
          "name": "stdout",
          "text": [
            "<class 'pandas.core.frame.DataFrame'>\n",
            "RangeIndex: 34936 entries, 0 to 34935\n",
            "Data columns (total 36 columns):\n",
            " #   Column                          Non-Null Count  Dtype  \n",
            "---  ------                          --------------  -----  \n",
            " 0   country                         34936 non-null  object \n",
            " 1   country_long                    34936 non-null  object \n",
            " 2   name                            34936 non-null  object \n",
            " 3   gppd_idnr                       34936 non-null  object \n",
            " 4   capacity_mw                     34936 non-null  float64\n",
            " 5   latitude                        34936 non-null  float64\n",
            " 6   longitude                       34936 non-null  float64\n",
            " 7   primary_fuel                    34936 non-null  object \n",
            " 8   other_fuel1                     1944 non-null   object \n",
            " 9   other_fuel2                     276 non-null    object \n",
            " 10  other_fuel3                     92 non-null     object \n",
            " 11  commissioning_year              17447 non-null  float64\n",
            " 12  owner                           20868 non-null  object \n",
            " 13  source                          34921 non-null  object \n",
            " 14  url                             34918 non-null  object \n",
            " 15  geolocation_source              34517 non-null  object \n",
            " 16  wepp_id                         16234 non-null  object \n",
            " 17  year_of_capacity_data           14887 non-null  float64\n",
            " 18  generation_gwh_2013             6417 non-null   float64\n",
            " 19  generation_gwh_2014             7226 non-null   float64\n",
            " 20  generation_gwh_2015             8203 non-null   float64\n",
            " 21  generation_gwh_2016             9144 non-null   float64\n",
            " 22  generation_gwh_2017             9500 non-null   float64\n",
            " 23  generation_gwh_2018             9637 non-null   float64\n",
            " 24  generation_gwh_2019             9659 non-null   float64\n",
            " 25  generation_data_source          11400 non-null  object \n",
            " 26  estimated_generation_gwh_2013   16120 non-null  float64\n",
            " 27  estimated_generation_gwh_2014   16503 non-null  float64\n",
            " 28  estimated_generation_gwh_2015   17050 non-null  float64\n",
            " 29  estimated_generation_gwh_2016   17570 non-null  float64\n",
            " 30  estimated_generation_gwh_2017   33138 non-null  float64\n",
            " 31  estimated_generation_note_2013  34936 non-null  object \n",
            " 32  estimated_generation_note_2014  34936 non-null  object \n",
            " 33  estimated_generation_note_2015  34936 non-null  object \n",
            " 34  estimated_generation_note_2016  34936 non-null  object \n",
            " 35  estimated_generation_note_2017  34936 non-null  object \n",
            "dtypes: float64(17), object(19)\n",
            "memory usage: 9.6+ MB\n"
          ]
        }
      ]
    },
    {
      "cell_type": "markdown",
      "metadata": {
        "id": "B-VjnbRBexy4"
      },
      "source": [
        "# Data Cleaning"
      ]
    },
    {
      "cell_type": "markdown",
      "metadata": {
        "id": "-fDwW-RG2x9-"
      },
      "source": [
        "Validity"
      ]
    },
    {
      "cell_type": "code",
      "metadata": {
        "colab": {
          "base_uri": "https://localhost:8080/",
          "height": 334
        },
        "id": "soPNkpoGe44u",
        "outputId": "dd82a5e5-3eaf-4dcc-cb2c-4ca38c25d8f7"
      },
      "source": [
        "#Removing any irrelevant observation:\n",
        "#The Columns: Commissioning Year, Plant Owner, Source, Url and Year of Capacity Data were unecessary on our analysis\n",
        "df.drop(df.columns[[8, 9, 10, 11, 12, 13, 14, 15, 16, 17]], axis = 1, inplace = True)\n",
        "df.head(4)"
      ],
      "execution_count": null,
      "outputs": [
        {
          "output_type": "execute_result",
          "data": {
            "text/html": [
              "<div>\n",
              "<style scoped>\n",
              "    .dataframe tbody tr th:only-of-type {\n",
              "        vertical-align: middle;\n",
              "    }\n",
              "\n",
              "    .dataframe tbody tr th {\n",
              "        vertical-align: top;\n",
              "    }\n",
              "\n",
              "    .dataframe thead th {\n",
              "        text-align: right;\n",
              "    }\n",
              "</style>\n",
              "<table border=\"1\" class=\"dataframe\">\n",
              "  <thead>\n",
              "    <tr style=\"text-align: right;\">\n",
              "      <th></th>\n",
              "      <th>country</th>\n",
              "      <th>country_long</th>\n",
              "      <th>name</th>\n",
              "      <th>gppd_idnr</th>\n",
              "      <th>capacity_mw</th>\n",
              "      <th>latitude</th>\n",
              "      <th>longitude</th>\n",
              "      <th>primary_fuel</th>\n",
              "      <th>generation_gwh_2013</th>\n",
              "      <th>generation_gwh_2014</th>\n",
              "      <th>generation_gwh_2015</th>\n",
              "      <th>generation_gwh_2016</th>\n",
              "      <th>generation_gwh_2017</th>\n",
              "      <th>generation_gwh_2018</th>\n",
              "      <th>generation_gwh_2019</th>\n",
              "      <th>generation_data_source</th>\n",
              "      <th>estimated_generation_gwh_2013</th>\n",
              "      <th>estimated_generation_gwh_2014</th>\n",
              "      <th>estimated_generation_gwh_2015</th>\n",
              "      <th>estimated_generation_gwh_2016</th>\n",
              "      <th>estimated_generation_gwh_2017</th>\n",
              "      <th>estimated_generation_note_2013</th>\n",
              "      <th>estimated_generation_note_2014</th>\n",
              "      <th>estimated_generation_note_2015</th>\n",
              "      <th>estimated_generation_note_2016</th>\n",
              "      <th>estimated_generation_note_2017</th>\n",
              "    </tr>\n",
              "  </thead>\n",
              "  <tbody>\n",
              "    <tr>\n",
              "      <th>0</th>\n",
              "      <td>AFG</td>\n",
              "      <td>Afghanistan</td>\n",
              "      <td>Kajaki Hydroelectric Power Plant Afghanistan</td>\n",
              "      <td>GEODB0040538</td>\n",
              "      <td>33.0</td>\n",
              "      <td>32.322</td>\n",
              "      <td>65.1190</td>\n",
              "      <td>Hydro</td>\n",
              "      <td>NaN</td>\n",
              "      <td>NaN</td>\n",
              "      <td>NaN</td>\n",
              "      <td>NaN</td>\n",
              "      <td>NaN</td>\n",
              "      <td>NaN</td>\n",
              "      <td>NaN</td>\n",
              "      <td>NaN</td>\n",
              "      <td>123.77</td>\n",
              "      <td>162.90</td>\n",
              "      <td>97.39</td>\n",
              "      <td>137.76</td>\n",
              "      <td>119.50</td>\n",
              "      <td>HYDRO-V1</td>\n",
              "      <td>HYDRO-V1</td>\n",
              "      <td>HYDRO-V1</td>\n",
              "      <td>HYDRO-V1</td>\n",
              "      <td>HYDRO-V1</td>\n",
              "    </tr>\n",
              "    <tr>\n",
              "      <th>1</th>\n",
              "      <td>AFG</td>\n",
              "      <td>Afghanistan</td>\n",
              "      <td>Kandahar DOG</td>\n",
              "      <td>WKS0070144</td>\n",
              "      <td>10.0</td>\n",
              "      <td>31.670</td>\n",
              "      <td>65.7950</td>\n",
              "      <td>Solar</td>\n",
              "      <td>NaN</td>\n",
              "      <td>NaN</td>\n",
              "      <td>NaN</td>\n",
              "      <td>NaN</td>\n",
              "      <td>NaN</td>\n",
              "      <td>NaN</td>\n",
              "      <td>NaN</td>\n",
              "      <td>NaN</td>\n",
              "      <td>18.43</td>\n",
              "      <td>17.48</td>\n",
              "      <td>18.25</td>\n",
              "      <td>17.70</td>\n",
              "      <td>18.29</td>\n",
              "      <td>SOLAR-V1-NO-AGE</td>\n",
              "      <td>SOLAR-V1-NO-AGE</td>\n",
              "      <td>SOLAR-V1-NO-AGE</td>\n",
              "      <td>SOLAR-V1-NO-AGE</td>\n",
              "      <td>SOLAR-V1-NO-AGE</td>\n",
              "    </tr>\n",
              "    <tr>\n",
              "      <th>2</th>\n",
              "      <td>AFG</td>\n",
              "      <td>Afghanistan</td>\n",
              "      <td>Kandahar JOL</td>\n",
              "      <td>WKS0071196</td>\n",
              "      <td>10.0</td>\n",
              "      <td>31.623</td>\n",
              "      <td>65.7920</td>\n",
              "      <td>Solar</td>\n",
              "      <td>NaN</td>\n",
              "      <td>NaN</td>\n",
              "      <td>NaN</td>\n",
              "      <td>NaN</td>\n",
              "      <td>NaN</td>\n",
              "      <td>NaN</td>\n",
              "      <td>NaN</td>\n",
              "      <td>NaN</td>\n",
              "      <td>18.64</td>\n",
              "      <td>17.58</td>\n",
              "      <td>19.10</td>\n",
              "      <td>17.62</td>\n",
              "      <td>18.72</td>\n",
              "      <td>SOLAR-V1-NO-AGE</td>\n",
              "      <td>SOLAR-V1-NO-AGE</td>\n",
              "      <td>SOLAR-V1-NO-AGE</td>\n",
              "      <td>SOLAR-V1-NO-AGE</td>\n",
              "      <td>SOLAR-V1-NO-AGE</td>\n",
              "    </tr>\n",
              "    <tr>\n",
              "      <th>3</th>\n",
              "      <td>AFG</td>\n",
              "      <td>Afghanistan</td>\n",
              "      <td>Mahipar Hydroelectric Power Plant Afghanistan</td>\n",
              "      <td>GEODB0040541</td>\n",
              "      <td>66.0</td>\n",
              "      <td>34.556</td>\n",
              "      <td>69.4787</td>\n",
              "      <td>Hydro</td>\n",
              "      <td>NaN</td>\n",
              "      <td>NaN</td>\n",
              "      <td>NaN</td>\n",
              "      <td>NaN</td>\n",
              "      <td>NaN</td>\n",
              "      <td>NaN</td>\n",
              "      <td>NaN</td>\n",
              "      <td>NaN</td>\n",
              "      <td>225.06</td>\n",
              "      <td>203.55</td>\n",
              "      <td>146.90</td>\n",
              "      <td>230.18</td>\n",
              "      <td>174.91</td>\n",
              "      <td>HYDRO-V1</td>\n",
              "      <td>HYDRO-V1</td>\n",
              "      <td>HYDRO-V1</td>\n",
              "      <td>HYDRO-V1</td>\n",
              "      <td>HYDRO-V1</td>\n",
              "    </tr>\n",
              "  </tbody>\n",
              "</table>\n",
              "</div>"
            ],
            "text/plain": [
              "  country  ... estimated_generation_note_2017\n",
              "0     AFG  ...                       HYDRO-V1\n",
              "1     AFG  ...                SOLAR-V1-NO-AGE\n",
              "2     AFG  ...                SOLAR-V1-NO-AGE\n",
              "3     AFG  ...                       HYDRO-V1\n",
              "\n",
              "[4 rows x 26 columns]"
            ]
          },
          "metadata": {},
          "execution_count": 13
        }
      ]
    },
    {
      "cell_type": "code",
      "metadata": {
        "colab": {
          "base_uri": "https://localhost:8080/",
          "height": 417
        },
        "id": "g9luyqVGds1s",
        "outputId": "540d55d3-628d-4dda-e63b-d9cf8c34460c"
      },
      "source": [
        "#Renaming the Column names Country, Plant Name and Capacity for uniformity:\n",
        "df1=df.rename(columns = {'country_long': 'Country', 'name': 'Plant_Name', 'gppd_idnr': 'Plant_ID', 'capacity_mw': 'Capacity(MW)'}, inplace = False)\n",
        "df1.head()"
      ],
      "execution_count": null,
      "outputs": [
        {
          "output_type": "execute_result",
          "data": {
            "text/html": [
              "<div>\n",
              "<style scoped>\n",
              "    .dataframe tbody tr th:only-of-type {\n",
              "        vertical-align: middle;\n",
              "    }\n",
              "\n",
              "    .dataframe tbody tr th {\n",
              "        vertical-align: top;\n",
              "    }\n",
              "\n",
              "    .dataframe thead th {\n",
              "        text-align: right;\n",
              "    }\n",
              "</style>\n",
              "<table border=\"1\" class=\"dataframe\">\n",
              "  <thead>\n",
              "    <tr style=\"text-align: right;\">\n",
              "      <th></th>\n",
              "      <th>country</th>\n",
              "      <th>Country</th>\n",
              "      <th>Plant_Name</th>\n",
              "      <th>Plant_ID</th>\n",
              "      <th>Capacity(MW)</th>\n",
              "      <th>latitude</th>\n",
              "      <th>longitude</th>\n",
              "      <th>primary_fuel</th>\n",
              "      <th>generation_gwh_2013</th>\n",
              "      <th>generation_gwh_2014</th>\n",
              "      <th>generation_gwh_2015</th>\n",
              "      <th>generation_gwh_2016</th>\n",
              "      <th>generation_gwh_2017</th>\n",
              "      <th>generation_gwh_2018</th>\n",
              "      <th>generation_gwh_2019</th>\n",
              "      <th>generation_data_source</th>\n",
              "      <th>estimated_generation_gwh_2013</th>\n",
              "      <th>estimated_generation_gwh_2014</th>\n",
              "      <th>estimated_generation_gwh_2015</th>\n",
              "      <th>estimated_generation_gwh_2016</th>\n",
              "      <th>estimated_generation_gwh_2017</th>\n",
              "      <th>estimated_generation_note_2013</th>\n",
              "      <th>estimated_generation_note_2014</th>\n",
              "      <th>estimated_generation_note_2015</th>\n",
              "      <th>estimated_generation_note_2016</th>\n",
              "      <th>estimated_generation_note_2017</th>\n",
              "    </tr>\n",
              "  </thead>\n",
              "  <tbody>\n",
              "    <tr>\n",
              "      <th>0</th>\n",
              "      <td>AFG</td>\n",
              "      <td>Afghanistan</td>\n",
              "      <td>Kajaki Hydroelectric Power Plant Afghanistan</td>\n",
              "      <td>GEODB0040538</td>\n",
              "      <td>33.0</td>\n",
              "      <td>32.322</td>\n",
              "      <td>65.1190</td>\n",
              "      <td>Hydro</td>\n",
              "      <td>NaN</td>\n",
              "      <td>NaN</td>\n",
              "      <td>NaN</td>\n",
              "      <td>NaN</td>\n",
              "      <td>NaN</td>\n",
              "      <td>NaN</td>\n",
              "      <td>NaN</td>\n",
              "      <td>NaN</td>\n",
              "      <td>123.77</td>\n",
              "      <td>162.90</td>\n",
              "      <td>97.39</td>\n",
              "      <td>137.76</td>\n",
              "      <td>119.50</td>\n",
              "      <td>HYDRO-V1</td>\n",
              "      <td>HYDRO-V1</td>\n",
              "      <td>HYDRO-V1</td>\n",
              "      <td>HYDRO-V1</td>\n",
              "      <td>HYDRO-V1</td>\n",
              "    </tr>\n",
              "    <tr>\n",
              "      <th>1</th>\n",
              "      <td>AFG</td>\n",
              "      <td>Afghanistan</td>\n",
              "      <td>Kandahar DOG</td>\n",
              "      <td>WKS0070144</td>\n",
              "      <td>10.0</td>\n",
              "      <td>31.670</td>\n",
              "      <td>65.7950</td>\n",
              "      <td>Solar</td>\n",
              "      <td>NaN</td>\n",
              "      <td>NaN</td>\n",
              "      <td>NaN</td>\n",
              "      <td>NaN</td>\n",
              "      <td>NaN</td>\n",
              "      <td>NaN</td>\n",
              "      <td>NaN</td>\n",
              "      <td>NaN</td>\n",
              "      <td>18.43</td>\n",
              "      <td>17.48</td>\n",
              "      <td>18.25</td>\n",
              "      <td>17.70</td>\n",
              "      <td>18.29</td>\n",
              "      <td>SOLAR-V1-NO-AGE</td>\n",
              "      <td>SOLAR-V1-NO-AGE</td>\n",
              "      <td>SOLAR-V1-NO-AGE</td>\n",
              "      <td>SOLAR-V1-NO-AGE</td>\n",
              "      <td>SOLAR-V1-NO-AGE</td>\n",
              "    </tr>\n",
              "    <tr>\n",
              "      <th>2</th>\n",
              "      <td>AFG</td>\n",
              "      <td>Afghanistan</td>\n",
              "      <td>Kandahar JOL</td>\n",
              "      <td>WKS0071196</td>\n",
              "      <td>10.0</td>\n",
              "      <td>31.623</td>\n",
              "      <td>65.7920</td>\n",
              "      <td>Solar</td>\n",
              "      <td>NaN</td>\n",
              "      <td>NaN</td>\n",
              "      <td>NaN</td>\n",
              "      <td>NaN</td>\n",
              "      <td>NaN</td>\n",
              "      <td>NaN</td>\n",
              "      <td>NaN</td>\n",
              "      <td>NaN</td>\n",
              "      <td>18.64</td>\n",
              "      <td>17.58</td>\n",
              "      <td>19.10</td>\n",
              "      <td>17.62</td>\n",
              "      <td>18.72</td>\n",
              "      <td>SOLAR-V1-NO-AGE</td>\n",
              "      <td>SOLAR-V1-NO-AGE</td>\n",
              "      <td>SOLAR-V1-NO-AGE</td>\n",
              "      <td>SOLAR-V1-NO-AGE</td>\n",
              "      <td>SOLAR-V1-NO-AGE</td>\n",
              "    </tr>\n",
              "    <tr>\n",
              "      <th>3</th>\n",
              "      <td>AFG</td>\n",
              "      <td>Afghanistan</td>\n",
              "      <td>Mahipar Hydroelectric Power Plant Afghanistan</td>\n",
              "      <td>GEODB0040541</td>\n",
              "      <td>66.0</td>\n",
              "      <td>34.556</td>\n",
              "      <td>69.4787</td>\n",
              "      <td>Hydro</td>\n",
              "      <td>NaN</td>\n",
              "      <td>NaN</td>\n",
              "      <td>NaN</td>\n",
              "      <td>NaN</td>\n",
              "      <td>NaN</td>\n",
              "      <td>NaN</td>\n",
              "      <td>NaN</td>\n",
              "      <td>NaN</td>\n",
              "      <td>225.06</td>\n",
              "      <td>203.55</td>\n",
              "      <td>146.90</td>\n",
              "      <td>230.18</td>\n",
              "      <td>174.91</td>\n",
              "      <td>HYDRO-V1</td>\n",
              "      <td>HYDRO-V1</td>\n",
              "      <td>HYDRO-V1</td>\n",
              "      <td>HYDRO-V1</td>\n",
              "      <td>HYDRO-V1</td>\n",
              "    </tr>\n",
              "    <tr>\n",
              "      <th>4</th>\n",
              "      <td>AFG</td>\n",
              "      <td>Afghanistan</td>\n",
              "      <td>Naghlu Dam Hydroelectric Power Plant Afghanistan</td>\n",
              "      <td>GEODB0040534</td>\n",
              "      <td>100.0</td>\n",
              "      <td>34.641</td>\n",
              "      <td>69.7170</td>\n",
              "      <td>Hydro</td>\n",
              "      <td>NaN</td>\n",
              "      <td>NaN</td>\n",
              "      <td>NaN</td>\n",
              "      <td>NaN</td>\n",
              "      <td>NaN</td>\n",
              "      <td>NaN</td>\n",
              "      <td>NaN</td>\n",
              "      <td>NaN</td>\n",
              "      <td>406.16</td>\n",
              "      <td>357.22</td>\n",
              "      <td>270.99</td>\n",
              "      <td>395.38</td>\n",
              "      <td>350.80</td>\n",
              "      <td>HYDRO-V1</td>\n",
              "      <td>HYDRO-V1</td>\n",
              "      <td>HYDRO-V1</td>\n",
              "      <td>HYDRO-V1</td>\n",
              "      <td>HYDRO-V1</td>\n",
              "    </tr>\n",
              "  </tbody>\n",
              "</table>\n",
              "</div>"
            ],
            "text/plain": [
              "  country  ... estimated_generation_note_2017\n",
              "0     AFG  ...                       HYDRO-V1\n",
              "1     AFG  ...                SOLAR-V1-NO-AGE\n",
              "2     AFG  ...                SOLAR-V1-NO-AGE\n",
              "3     AFG  ...                       HYDRO-V1\n",
              "4     AFG  ...                       HYDRO-V1\n",
              "\n",
              "[5 rows x 26 columns]"
            ]
          },
          "metadata": {},
          "execution_count": 14
        }
      ]
    },
    {
      "cell_type": "markdown",
      "metadata": {
        "id": "fpWB7fPu20m0"
      },
      "source": [
        "Completeness"
      ]
    },
    {
      "cell_type": "code",
      "metadata": {
        "colab": {
          "base_uri": "https://localhost:8080/"
        },
        "id": "hek_hJci2skh",
        "outputId": "a22581ef-7444-4f04-cf69-cedcb7cace6f"
      },
      "source": [
        "#Checking for any null values:\n",
        "df1.isnull().sum()"
      ],
      "execution_count": null,
      "outputs": [
        {
          "output_type": "execute_result",
          "data": {
            "text/plain": [
              "country                               0\n",
              "Country                               0\n",
              "Plant_Name                            0\n",
              "Plant_ID                              0\n",
              "Capacity(MW)                          0\n",
              "latitude                              0\n",
              "longitude                             0\n",
              "primary_fuel                          0\n",
              "generation_gwh_2013               28519\n",
              "generation_gwh_2014               27710\n",
              "generation_gwh_2015               26733\n",
              "generation_gwh_2016               25792\n",
              "generation_gwh_2017               25436\n",
              "generation_gwh_2018               25299\n",
              "generation_gwh_2019               25277\n",
              "generation_data_source            23536\n",
              "estimated_generation_gwh_2013     18816\n",
              "estimated_generation_gwh_2014     18433\n",
              "estimated_generation_gwh_2015     17886\n",
              "estimated_generation_gwh_2016     17366\n",
              "estimated_generation_gwh_2017      1798\n",
              "estimated_generation_note_2013        0\n",
              "estimated_generation_note_2014        0\n",
              "estimated_generation_note_2015        0\n",
              "estimated_generation_note_2016        0\n",
              "estimated_generation_note_2017        0\n",
              "dtype: int64"
            ]
          },
          "metadata": {},
          "execution_count": 15
        }
      ]
    },
    {
      "cell_type": "code",
      "metadata": {
        "colab": {
          "base_uri": "https://localhost:8080/",
          "height": 334
        },
        "id": "efYuKD3PPaMo",
        "outputId": "c39fb8c1-7537-4b95-b0a8-c2ea6b85ae58"
      },
      "source": [
        "#Further dropping the Columns with null values as they do not form any basis of our analysis:\n",
        "df1.drop(df.columns[[0,8, 9, 10, 11, 12, 13, 14, 15, 16, 17, 18, 19, 20]], axis = 1, inplace = True)\n",
        "df1.head(4)\n",
        "\n"
      ],
      "execution_count": null,
      "outputs": [
        {
          "output_type": "execute_result",
          "data": {
            "text/html": [
              "<div>\n",
              "<style scoped>\n",
              "    .dataframe tbody tr th:only-of-type {\n",
              "        vertical-align: middle;\n",
              "    }\n",
              "\n",
              "    .dataframe tbody tr th {\n",
              "        vertical-align: top;\n",
              "    }\n",
              "\n",
              "    .dataframe thead th {\n",
              "        text-align: right;\n",
              "    }\n",
              "</style>\n",
              "<table border=\"1\" class=\"dataframe\">\n",
              "  <thead>\n",
              "    <tr style=\"text-align: right;\">\n",
              "      <th></th>\n",
              "      <th>Country</th>\n",
              "      <th>Plant_Name</th>\n",
              "      <th>Plant_ID</th>\n",
              "      <th>Capacity(MW)</th>\n",
              "      <th>latitude</th>\n",
              "      <th>longitude</th>\n",
              "      <th>primary_fuel</th>\n",
              "      <th>estimated_generation_note_2013</th>\n",
              "      <th>estimated_generation_note_2014</th>\n",
              "      <th>estimated_generation_note_2015</th>\n",
              "      <th>estimated_generation_note_2016</th>\n",
              "      <th>estimated_generation_note_2017</th>\n",
              "    </tr>\n",
              "  </thead>\n",
              "  <tbody>\n",
              "    <tr>\n",
              "      <th>0</th>\n",
              "      <td>Afghanistan</td>\n",
              "      <td>Kajaki Hydroelectric Power Plant Afghanistan</td>\n",
              "      <td>GEODB0040538</td>\n",
              "      <td>33.0</td>\n",
              "      <td>32.322</td>\n",
              "      <td>65.1190</td>\n",
              "      <td>Hydro</td>\n",
              "      <td>HYDRO-V1</td>\n",
              "      <td>HYDRO-V1</td>\n",
              "      <td>HYDRO-V1</td>\n",
              "      <td>HYDRO-V1</td>\n",
              "      <td>HYDRO-V1</td>\n",
              "    </tr>\n",
              "    <tr>\n",
              "      <th>1</th>\n",
              "      <td>Afghanistan</td>\n",
              "      <td>Kandahar DOG</td>\n",
              "      <td>WKS0070144</td>\n",
              "      <td>10.0</td>\n",
              "      <td>31.670</td>\n",
              "      <td>65.7950</td>\n",
              "      <td>Solar</td>\n",
              "      <td>SOLAR-V1-NO-AGE</td>\n",
              "      <td>SOLAR-V1-NO-AGE</td>\n",
              "      <td>SOLAR-V1-NO-AGE</td>\n",
              "      <td>SOLAR-V1-NO-AGE</td>\n",
              "      <td>SOLAR-V1-NO-AGE</td>\n",
              "    </tr>\n",
              "    <tr>\n",
              "      <th>2</th>\n",
              "      <td>Afghanistan</td>\n",
              "      <td>Kandahar JOL</td>\n",
              "      <td>WKS0071196</td>\n",
              "      <td>10.0</td>\n",
              "      <td>31.623</td>\n",
              "      <td>65.7920</td>\n",
              "      <td>Solar</td>\n",
              "      <td>SOLAR-V1-NO-AGE</td>\n",
              "      <td>SOLAR-V1-NO-AGE</td>\n",
              "      <td>SOLAR-V1-NO-AGE</td>\n",
              "      <td>SOLAR-V1-NO-AGE</td>\n",
              "      <td>SOLAR-V1-NO-AGE</td>\n",
              "    </tr>\n",
              "    <tr>\n",
              "      <th>3</th>\n",
              "      <td>Afghanistan</td>\n",
              "      <td>Mahipar Hydroelectric Power Plant Afghanistan</td>\n",
              "      <td>GEODB0040541</td>\n",
              "      <td>66.0</td>\n",
              "      <td>34.556</td>\n",
              "      <td>69.4787</td>\n",
              "      <td>Hydro</td>\n",
              "      <td>HYDRO-V1</td>\n",
              "      <td>HYDRO-V1</td>\n",
              "      <td>HYDRO-V1</td>\n",
              "      <td>HYDRO-V1</td>\n",
              "      <td>HYDRO-V1</td>\n",
              "    </tr>\n",
              "  </tbody>\n",
              "</table>\n",
              "</div>"
            ],
            "text/plain": [
              "       Country  ... estimated_generation_note_2017\n",
              "0  Afghanistan  ...                       HYDRO-V1\n",
              "1  Afghanistan  ...                SOLAR-V1-NO-AGE\n",
              "2  Afghanistan  ...                SOLAR-V1-NO-AGE\n",
              "3  Afghanistan  ...                       HYDRO-V1\n",
              "\n",
              "[4 rows x 12 columns]"
            ]
          },
          "metadata": {},
          "execution_count": 17
        }
      ]
    },
    {
      "cell_type": "code",
      "metadata": {
        "colab": {
          "base_uri": "https://localhost:8080/"
        },
        "id": "bZVIj1nAUPuc",
        "outputId": "3c12c2d6-b4bd-49ce-9658-e96ffd631417"
      },
      "source": [
        "#Previewing our final data information:\n",
        "df1.info()"
      ],
      "execution_count": null,
      "outputs": [
        {
          "output_type": "stream",
          "name": "stdout",
          "text": [
            "<class 'pandas.core.frame.DataFrame'>\n",
            "RangeIndex: 34936 entries, 0 to 34935\n",
            "Data columns (total 12 columns):\n",
            " #   Column                          Non-Null Count  Dtype  \n",
            "---  ------                          --------------  -----  \n",
            " 0   Country                         34936 non-null  object \n",
            " 1   Plant_Name                      34936 non-null  object \n",
            " 2   Plant_ID                        34936 non-null  object \n",
            " 3   Capacity(MW)                    34936 non-null  float64\n",
            " 4   latitude                        34936 non-null  float64\n",
            " 5   longitude                       34936 non-null  float64\n",
            " 6   primary_fuel                    34936 non-null  object \n",
            " 7   estimated_generation_note_2013  34936 non-null  object \n",
            " 8   estimated_generation_note_2014  34936 non-null  object \n",
            " 9   estimated_generation_note_2015  34936 non-null  object \n",
            " 10  estimated_generation_note_2016  34936 non-null  object \n",
            " 11  estimated_generation_note_2017  34936 non-null  object \n",
            "dtypes: float64(3), object(9)\n",
            "memory usage: 3.2+ MB\n"
          ]
        }
      ]
    },
    {
      "cell_type": "code",
      "metadata": {
        "colab": {
          "base_uri": "https://localhost:8080/"
        },
        "id": "8rFRG9eX25nX",
        "outputId": "6501c7fa-799f-45e9-d361-9c35eea2dd87"
      },
      "source": [
        "#Checking for any Duplicates:\n",
        "df1.duplicated().sum()"
      ],
      "execution_count": null,
      "outputs": [
        {
          "output_type": "execute_result",
          "data": {
            "text/plain": [
              "0"
            ]
          },
          "metadata": {},
          "execution_count": 19
        }
      ]
    },
    {
      "cell_type": "code",
      "metadata": {
        "colab": {
          "base_uri": "https://localhost:8080/"
        },
        "id": "s4Q9mwdy3AdI",
        "outputId": "4b81aabc-fdb2-40da-d465-f88f6f49ca46"
      },
      "source": [
        "#Checking the shape of out dataset:\n",
        "df1.shape"
      ],
      "execution_count": null,
      "outputs": [
        {
          "output_type": "execute_result",
          "data": {
            "text/plain": [
              "(34936, 12)"
            ]
          },
          "metadata": {},
          "execution_count": 20
        }
      ]
    },
    {
      "cell_type": "markdown",
      "metadata": {
        "id": "WdsJZbdA3Fzw"
      },
      "source": [
        "Uniformity"
      ]
    },
    {
      "cell_type": "code",
      "metadata": {
        "colab": {
          "base_uri": "https://localhost:8080/"
        },
        "id": "jozOCM7K3IZD",
        "outputId": "07f9f92d-05b8-42af-df93-d67872876fb1"
      },
      "source": [
        "#To view the datatypes in our set:\n",
        "df1.dtypes"
      ],
      "execution_count": null,
      "outputs": [
        {
          "output_type": "execute_result",
          "data": {
            "text/plain": [
              "Country                            object\n",
              "Plant_Name                         object\n",
              "Plant_ID                           object\n",
              "Capacity(MW)                      float64\n",
              "latitude                          float64\n",
              "longitude                         float64\n",
              "primary_fuel                       object\n",
              "estimated_generation_note_2013     object\n",
              "estimated_generation_note_2014     object\n",
              "estimated_generation_note_2015     object\n",
              "estimated_generation_note_2016     object\n",
              "estimated_generation_note_2017     object\n",
              "dtype: object"
            ]
          },
          "metadata": {},
          "execution_count": 21
        }
      ]
    },
    {
      "cell_type": "markdown",
      "metadata": {
        "id": "Hf5oP-Fz3Nys"
      },
      "source": [
        "Exporting the dataset"
      ]
    },
    {
      "cell_type": "code",
      "metadata": {
        "id": "TYRn65Uo3RCg"
      },
      "source": [
        "#To export our cleaned dataset:\n",
        "df.to_csv('global_power_plant.csv')"
      ],
      "execution_count": null,
      "outputs": []
    },
    {
      "cell_type": "markdown",
      "metadata": {
        "id": "e7gItJXv7MgO"
      },
      "source": [
        "# Data Analysis"
      ]
    },
    {
      "cell_type": "markdown",
      "metadata": {
        "id": "v5jAyDMSyuRc"
      },
      "source": [
        "1. **Global Energy Consumption**\n"
      ]
    },
    {
      "cell_type": "code",
      "metadata": {
        "colab": {
          "base_uri": "https://localhost:8080/"
        },
        "id": "dOCCj8W3yvaA",
        "outputId": "a7712cf1-cb50-4666-d292-1e5d599f9c40"
      },
      "source": [
        "#To find out which fuel is mostly used to generate Power on a global scale:\n",
        "df1.groupby('primary_fuel')['Capacity(MW)'].sum().sort_values(ascending=False).round()"
      ],
      "execution_count": null,
      "outputs": [
        {
          "output_type": "execute_result",
          "data": {
            "text/plain": [
              "primary_fuel\n",
              "Coal              1965541.0\n",
              "Gas               1493051.0\n",
              "Hydro             1053160.0\n",
              "Nuclear            407912.0\n",
              "Wind               263054.0\n",
              "Oil                261879.0\n",
              "Solar              188312.0\n",
              "Biomass             34281.0\n",
              "Waste               14749.0\n",
              "Geothermal          12688.0\n",
              "Cogeneration         4048.0\n",
              "Other                3613.0\n",
              "Petcoke              2425.0\n",
              "Storage              1712.0\n",
              "Wave and Tidal        552.0\n",
              "Name: Capacity(MW), dtype: float64"
            ]
          },
          "metadata": {},
          "execution_count": 23
        }
      ]
    },
    {
      "cell_type": "code",
      "metadata": {
        "colab": {
          "base_uri": "https://localhost:8080/",
          "height": 367
        },
        "id": "9MneHfpZzCsO",
        "outputId": "d680013b-7edb-4ea2-f073-0fe072b07391"
      },
      "source": [
        "#Visualising the above information:\n",
        "C=df1.groupby('primary_fuel')['Capacity(MW)'].sum().round()\n",
        "C.plot.bar(color=['C8', 'C9', 'C12'], x='primary_fuel', y='Capacity(MW)', rot=0, figsize=(15,5))\n",
        "plt.title(\"World Energy Consumption\")\n",
        "plt.xlabel(\"Type of Fuel\")\n",
        "plt.ylabel(\"Capacity Production(mw)\")"
      ],
      "execution_count": null,
      "outputs": [
        {
          "output_type": "execute_result",
          "data": {
            "text/plain": [
              "Text(0, 0.5, 'Capacity Production(mw)')"
            ]
          },
          "metadata": {},
          "execution_count": 24
        },
        {
          "output_type": "display_data",
          "data": {
            "image/png": "[encoded data removed]",
            "text/plain": [
              "<Figure size 1080x360 with 1 Axes>"
            ]
          },
          "metadata": {
            "needs_background": "light"
          }
        }
      ]
    },
    {
      "cell_type": "markdown",
      "metadata": {
        "id": "hclXDyJvKd9F"
      },
      "source": [
        "From the Graph, Coal and Gas account for the highest capacity production. This are Fossil Fuels which generally contribute to carbon emissions leading to pollution"
      ]
    },
    {
      "cell_type": "markdown",
      "metadata": {
        "id": "YDYE6_px7QbZ"
      },
      "source": [
        "2. a) **Largest Electricity Generating Countries**"
      ]
    },
    {
      "cell_type": "code",
      "metadata": {
        "colab": {
          "base_uri": "https://localhost:8080/",
          "height": 238
        },
        "id": "u9bj7lJc4o4F",
        "outputId": "f8b66dbc-3906-4637-dc85-366e960123ed"
      },
      "source": [
        "#Grouping by Country:\n",
        "f = df1.groupby(['Country'])[['Capacity(MW)']].sum()\n",
        "f.head()\n",
        "\n",
        "#To get the highest generators:\n",
        "f.sort_values('Capacity(MW)', ascending=False).head(5)"
      ],
      "execution_count": null,
      "outputs": [
        {
          "output_type": "execute_result",
          "data": {
            "text/html": [
              "<div>\n",
              "<style scoped>\n",
              "    .dataframe tbody tr th:only-of-type {\n",
              "        vertical-align: middle;\n",
              "    }\n",
              "\n",
              "    .dataframe tbody tr th {\n",
              "        vertical-align: top;\n",
              "    }\n",
              "\n",
              "    .dataframe thead th {\n",
              "        text-align: right;\n",
              "    }\n",
              "</style>\n",
              "<table border=\"1\" class=\"dataframe\">\n",
              "  <thead>\n",
              "    <tr style=\"text-align: right;\">\n",
              "      <th></th>\n",
              "      <th>Capacity(MW)</th>\n",
              "    </tr>\n",
              "    <tr>\n",
              "      <th>Country</th>\n",
              "      <th></th>\n",
              "    </tr>\n",
              "  </thead>\n",
              "  <tbody>\n",
              "    <tr>\n",
              "      <th>China</th>\n",
              "      <td>1415067.380</td>\n",
              "    </tr>\n",
              "    <tr>\n",
              "      <th>United States of America</th>\n",
              "      <td>1204638.050</td>\n",
              "    </tr>\n",
              "    <tr>\n",
              "      <th>India</th>\n",
              "      <td>316088.546</td>\n",
              "    </tr>\n",
              "    <tr>\n",
              "      <th>Russia</th>\n",
              "      <td>228220.050</td>\n",
              "    </tr>\n",
              "    <tr>\n",
              "      <th>Japan</th>\n",
              "      <td>215365.850</td>\n",
              "    </tr>\n",
              "  </tbody>\n",
              "</table>\n",
              "</div>"
            ],
            "text/plain": [
              "                          Capacity(MW)\n",
              "Country                               \n",
              "China                      1415067.380\n",
              "United States of America   1204638.050\n",
              "India                       316088.546\n",
              "Russia                      228220.050\n",
              "Japan                       215365.850"
            ]
          },
          "metadata": {},
          "execution_count": 25
        }
      ]
    },
    {
      "cell_type": "markdown",
      "metadata": {
        "id": "rqgrTOHSBX4L"
      },
      "source": [
        "b) **Lowest Electrcity Generating Countries**"
      ]
    },
    {
      "cell_type": "code",
      "metadata": {
        "colab": {
          "base_uri": "https://localhost:8080/",
          "height": 238
        },
        "id": "1k9HIZYkHsSP",
        "outputId": "c0c14599-9ca4-457c-f2b2-569224006694"
      },
      "source": [
        "#Countries with the lowest Production:\n",
        "\n",
        "f = df.groupby(['country_long'])[['capacity_mw']].sum()\n",
        "f.head()\n",
        "\n",
        "#To get the highest producers:\n",
        "f.sort_values('capacity_mw', ascending=True).head(5)"
      ],
      "execution_count": null,
      "outputs": [
        {
          "output_type": "execute_result",
          "data": {
            "text/html": [
              "<div>\n",
              "<style scoped>\n",
              "    .dataframe tbody tr th:only-of-type {\n",
              "        vertical-align: middle;\n",
              "    }\n",
              "\n",
              "    .dataframe tbody tr th {\n",
              "        vertical-align: top;\n",
              "    }\n",
              "\n",
              "    .dataframe thead th {\n",
              "        text-align: right;\n",
              "    }\n",
              "</style>\n",
              "<table border=\"1\" class=\"dataframe\">\n",
              "  <thead>\n",
              "    <tr style=\"text-align: right;\">\n",
              "      <th></th>\n",
              "      <th>capacity_mw</th>\n",
              "    </tr>\n",
              "    <tr>\n",
              "      <th>country_long</th>\n",
              "      <th></th>\n",
              "    </tr>\n",
              "  </thead>\n",
              "  <tbody>\n",
              "    <tr>\n",
              "      <th>Saint Lucia</th>\n",
              "      <td>3.000</td>\n",
              "    </tr>\n",
              "    <tr>\n",
              "      <th>Suriname</th>\n",
              "      <td>5.000</td>\n",
              "    </tr>\n",
              "    <tr>\n",
              "      <th>Palestine</th>\n",
              "      <td>7.600</td>\n",
              "    </tr>\n",
              "    <tr>\n",
              "      <th>Antarctica</th>\n",
              "      <td>7.600</td>\n",
              "    </tr>\n",
              "    <tr>\n",
              "      <th>Guinea-Bissau</th>\n",
              "      <td>18.237</td>\n",
              "    </tr>\n",
              "  </tbody>\n",
              "</table>\n",
              "</div>"
            ],
            "text/plain": [
              "               capacity_mw\n",
              "country_long              \n",
              "Saint Lucia          3.000\n",
              "Suriname             5.000\n",
              "Palestine            7.600\n",
              "Antarctica           7.600\n",
              "Guinea-Bissau       18.237"
            ]
          },
          "metadata": {},
          "execution_count": 26
        }
      ]
    },
    {
      "cell_type": "markdown",
      "metadata": {
        "id": "B6PhbMgPYuRQ"
      },
      "source": [
        "Comparing The Highest to The Lowest Electricity Generators"
      ]
    },
    {
      "cell_type": "code",
      "metadata": {
        "colab": {
          "base_uri": "https://localhost:8080/",
          "height": 385
        },
        "id": "OJ-5tYxKn7kW",
        "outputId": "c095157b-326e-4990-ef52-36243e5933b1"
      },
      "source": [
        "#Comparing China the highest electricity generator to A country producing the least:\n",
        "country = input(\"Enter a country: \")\n",
        "C=df1[df1['Country']==country].groupby('primary_fuel')['Capacity(MW)'].sum().sort_values(ascending=False)\n",
        "C.plot.bar(color=['C8', 'C9', 'C12'], x='primary_fuel', y='Capacity(MW)', rot=0, figsize=(12,5))\n",
        "plt.title('Comparing the highest electricity generators to A country producing the least')\n",
        "plt.xlabel(\"Type of Fuel\")\n",
        "plt.ylabel(\"Capacity Production(mw)\")"
      ],
      "execution_count": null,
      "outputs": [
        {
          "name": "stdout",
          "output_type": "stream",
          "text": [
            "Enter a country: China\n"
          ]
        },
        {
          "output_type": "execute_result",
          "data": {
            "text/plain": [
              "Text(0, 0.5, 'Capacity Production(mw)')"
            ]
          },
          "metadata": {},
          "execution_count": 27
        },
        {
          "output_type": "display_data",
          "data": {
            "image/png": "[encoded data removed]",
            "text/plain": [
              "<Figure size 864x360 with 1 Axes>"
            ]
          },
          "metadata": {
            "needs_background": "light"
          }
        }
      ]
    },
    {
      "cell_type": "markdown",
      "metadata": {
        "id": "l-TA0JpoeSvL"
      },
      "source": [
        "Comparing The Countries with the Highest and Lowest Electricity Capacities shows that Leading countries obtain their electricity from several sources. A Country like China taps from 8 different sources. Palestine on the other hand has 1 Source of Energy."
      ]
    },
    {
      "cell_type": "markdown",
      "metadata": {
        "id": "io_xym6ZjiYe"
      },
      "source": [
        "3. a) **Do number of power plants affect Total Production**"
      ]
    },
    {
      "cell_type": "code",
      "metadata": {
        "colab": {
          "base_uri": "https://localhost:8080/",
          "height": 394
        },
        "id": "3OX0pt1UQMJK",
        "outputId": "de56ddeb-f594-4b8c-9b44-3894cee34561"
      },
      "source": [
        "#Accesing Information based on the number of plants:\n",
        "df1.groupby(['Country'])[['Plant_Name']].count().sort_values('Plant_Name', ascending=False).head(10)\n",
        "\n",
        "#From the output, USA and China still lead in the number of power plants."
      ],
      "execution_count": null,
      "outputs": [
        {
          "output_type": "execute_result",
          "data": {
            "text/html": [
              "<div>\n",
              "<style scoped>\n",
              "    .dataframe tbody tr th:only-of-type {\n",
              "        vertical-align: middle;\n",
              "    }\n",
              "\n",
              "    .dataframe tbody tr th {\n",
              "        vertical-align: top;\n",
              "    }\n",
              "\n",
              "    .dataframe thead th {\n",
              "        text-align: right;\n",
              "    }\n",
              "</style>\n",
              "<table border=\"1\" class=\"dataframe\">\n",
              "  <thead>\n",
              "    <tr style=\"text-align: right;\">\n",
              "      <th></th>\n",
              "      <th>Plant_Name</th>\n",
              "    </tr>\n",
              "    <tr>\n",
              "      <th>Country</th>\n",
              "      <th></th>\n",
              "    </tr>\n",
              "  </thead>\n",
              "  <tbody>\n",
              "    <tr>\n",
              "      <th>United States of America</th>\n",
              "      <td>9833</td>\n",
              "    </tr>\n",
              "    <tr>\n",
              "      <th>China</th>\n",
              "      <td>4235</td>\n",
              "    </tr>\n",
              "    <tr>\n",
              "      <th>United Kingdom</th>\n",
              "      <td>2751</td>\n",
              "    </tr>\n",
              "    <tr>\n",
              "      <th>Brazil</th>\n",
              "      <td>2360</td>\n",
              "    </tr>\n",
              "    <tr>\n",
              "      <th>France</th>\n",
              "      <td>2155</td>\n",
              "    </tr>\n",
              "    <tr>\n",
              "      <th>India</th>\n",
              "      <td>1589</td>\n",
              "    </tr>\n",
              "    <tr>\n",
              "      <th>Germany</th>\n",
              "      <td>1309</td>\n",
              "    </tr>\n",
              "    <tr>\n",
              "      <th>Canada</th>\n",
              "      <td>1159</td>\n",
              "    </tr>\n",
              "    <tr>\n",
              "      <th>Spain</th>\n",
              "      <td>829</td>\n",
              "    </tr>\n",
              "    <tr>\n",
              "      <th>Russia</th>\n",
              "      <td>545</td>\n",
              "    </tr>\n",
              "  </tbody>\n",
              "</table>\n",
              "</div>"
            ],
            "text/plain": [
              "                          Plant_Name\n",
              "Country                             \n",
              "United States of America        9833\n",
              "China                           4235\n",
              "United Kingdom                  2751\n",
              "Brazil                          2360\n",
              "France                          2155\n",
              "India                           1589\n",
              "Germany                         1309\n",
              "Canada                          1159\n",
              "Spain                            829\n",
              "Russia                           545"
            ]
          },
          "metadata": {},
          "execution_count": 28
        }
      ]
    },
    {
      "cell_type": "markdown",
      "metadata": {
        "id": "-yANOnJuDein"
      },
      "source": [
        "b) **Countries with the Least Number of Power Plants**"
      ]
    },
    {
      "cell_type": "code",
      "metadata": {
        "colab": {
          "base_uri": "https://localhost:8080/",
          "height": 394
        },
        "id": "iQNTRWwvgT77",
        "outputId": "f58353b0-7ef2-4a5c-d9e4-85773b15210e"
      },
      "source": [
        "#Accesing Information based on the number of plants:\n",
        "df1.groupby(['Country'])[['Plant_Name']].count().sort_values('Plant_Name', ascending=True).head(10)"
      ],
      "execution_count": null,
      "outputs": [
        {
          "output_type": "execute_result",
          "data": {
            "text/html": [
              "<div>\n",
              "<style scoped>\n",
              "    .dataframe tbody tr th:only-of-type {\n",
              "        vertical-align: middle;\n",
              "    }\n",
              "\n",
              "    .dataframe tbody tr th {\n",
              "        vertical-align: top;\n",
              "    }\n",
              "\n",
              "    .dataframe thead th {\n",
              "        text-align: right;\n",
              "    }\n",
              "</style>\n",
              "<table border=\"1\" class=\"dataframe\">\n",
              "  <thead>\n",
              "    <tr style=\"text-align: right;\">\n",
              "      <th></th>\n",
              "      <th>Plant_Name</th>\n",
              "    </tr>\n",
              "    <tr>\n",
              "      <th>Country</th>\n",
              "      <th></th>\n",
              "    </tr>\n",
              "  </thead>\n",
              "  <tbody>\n",
              "    <tr>\n",
              "      <th>Western Sahara</th>\n",
              "      <td>1</td>\n",
              "    </tr>\n",
              "    <tr>\n",
              "      <th>Djibouti</th>\n",
              "      <td>1</td>\n",
              "    </tr>\n",
              "    <tr>\n",
              "      <th>Suriname</th>\n",
              "      <td>1</td>\n",
              "    </tr>\n",
              "    <tr>\n",
              "      <th>Saint Lucia</th>\n",
              "      <td>1</td>\n",
              "    </tr>\n",
              "    <tr>\n",
              "      <th>Guinea-Bissau</th>\n",
              "      <td>1</td>\n",
              "    </tr>\n",
              "    <tr>\n",
              "      <th>Palestine</th>\n",
              "      <td>1</td>\n",
              "    </tr>\n",
              "    <tr>\n",
              "      <th>Lesotho</th>\n",
              "      <td>1</td>\n",
              "    </tr>\n",
              "    <tr>\n",
              "      <th>Zimbabwe</th>\n",
              "      <td>2</td>\n",
              "    </tr>\n",
              "    <tr>\n",
              "      <th>Eritrea</th>\n",
              "      <td>2</td>\n",
              "    </tr>\n",
              "    <tr>\n",
              "      <th>Gambia</th>\n",
              "      <td>2</td>\n",
              "    </tr>\n",
              "  </tbody>\n",
              "</table>\n",
              "</div>"
            ],
            "text/plain": [
              "                Plant_Name\n",
              "Country                   \n",
              "Western Sahara           1\n",
              "Djibouti                 1\n",
              "Suriname                 1\n",
              "Saint Lucia              1\n",
              "Guinea-Bissau            1\n",
              "Palestine                1\n",
              "Lesotho                  1\n",
              "Zimbabwe                 2\n",
              "Eritrea                  2\n",
              "Gambia                   2"
            ]
          },
          "metadata": {},
          "execution_count": 29
        }
      ]
    },
    {
      "cell_type": "markdown",
      "metadata": {
        "id": "d7-eB5wZK75E"
      },
      "source": [
        "Most of the Countries leading on the global Chart have the highest number of plants, something that could be contributing to their high production capacities."
      ]
    },
    {
      "cell_type": "markdown",
      "metadata": {
        "id": "ZrSu9IZgcsSf"
      },
      "source": [
        "4. **The Energy Source accounting for the Highest Global consumption**"
      ]
    },
    {
      "cell_type": "code",
      "metadata": {
        "colab": {
          "base_uri": "https://localhost:8080/",
          "height": 351
        },
        "id": "VxszVcVNKtuk",
        "outputId": "2fc1ae1e-9b32-43c1-8a21-0496581779a4"
      },
      "source": [
        "#Adding a Column that groups the primary fuels based on whether they are renewable or non-renewable\n",
        "\n",
        "#Our Renewable Sources are: Hydro, Solar, Wind, Geothermal, Biomass, Wave and Tidal\n",
        "\n",
        "def Check(df1):\n",
        "   if df1['primary_fuel']== \"Hydro\" :\n",
        "      return \"Renewable\"\n",
        "   elif df1['primary_fuel']== \"Solar\" :\n",
        "      return \"Renewable\"\n",
        "   elif df1['primary_fuel']== \"Wind\" :\n",
        "      return \"Renewable\"\n",
        "   elif df1['primary_fuel']== \"Geothermal\" :\n",
        "      return \"Renewable\"\n",
        "   elif df1['primary_fuel']== \"Biomass\" :\n",
        "      return \"Renewable\"\n",
        "   elif df1['primary_fuel']== \"Wave and Tidal\" :\n",
        "      return \"Renewable\"\n",
        "   else:\n",
        "     return \"Non-Renewable\"\n",
        "\n",
        "df1['renewable/Non-Renewable'] = df1.apply(Check, axis=1)\n",
        "df1.head(4)\n"
      ],
      "execution_count": null,
      "outputs": [
        {
          "output_type": "execute_result",
          "data": {
            "text/html": [
              "<div>\n",
              "<style scoped>\n",
              "    .dataframe tbody tr th:only-of-type {\n",
              "        vertical-align: middle;\n",
              "    }\n",
              "\n",
              "    .dataframe tbody tr th {\n",
              "        vertical-align: top;\n",
              "    }\n",
              "\n",
              "    .dataframe thead th {\n",
              "        text-align: right;\n",
              "    }\n",
              "</style>\n",
              "<table border=\"1\" class=\"dataframe\">\n",
              "  <thead>\n",
              "    <tr style=\"text-align: right;\">\n",
              "      <th></th>\n",
              "      <th>Country</th>\n",
              "      <th>Plant_Name</th>\n",
              "      <th>Plant_ID</th>\n",
              "      <th>Capacity(MW)</th>\n",
              "      <th>latitude</th>\n",
              "      <th>longitude</th>\n",
              "      <th>primary_fuel</th>\n",
              "      <th>estimated_generation_note_2013</th>\n",
              "      <th>estimated_generation_note_2014</th>\n",
              "      <th>estimated_generation_note_2015</th>\n",
              "      <th>estimated_generation_note_2016</th>\n",
              "      <th>estimated_generation_note_2017</th>\n",
              "      <th>renewable/Non-Renewable</th>\n",
              "    </tr>\n",
              "  </thead>\n",
              "  <tbody>\n",
              "    <tr>\n",
              "      <th>0</th>\n",
              "      <td>Afghanistan</td>\n",
              "      <td>Kajaki Hydroelectric Power Plant Afghanistan</td>\n",
              "      <td>GEODB0040538</td>\n",
              "      <td>33.0</td>\n",
              "      <td>32.322</td>\n",
              "      <td>65.1190</td>\n",
              "      <td>Hydro</td>\n",
              "      <td>HYDRO-V1</td>\n",
              "      <td>HYDRO-V1</td>\n",
              "      <td>HYDRO-V1</td>\n",
              "      <td>HYDRO-V1</td>\n",
              "      <td>HYDRO-V1</td>\n",
              "      <td>Renewable</td>\n",
              "    </tr>\n",
              "    <tr>\n",
              "      <th>1</th>\n",
              "      <td>Afghanistan</td>\n",
              "      <td>Kandahar DOG</td>\n",
              "      <td>WKS0070144</td>\n",
              "      <td>10.0</td>\n",
              "      <td>31.670</td>\n",
              "      <td>65.7950</td>\n",
              "      <td>Solar</td>\n",
              "      <td>SOLAR-V1-NO-AGE</td>\n",
              "      <td>SOLAR-V1-NO-AGE</td>\n",
              "      <td>SOLAR-V1-NO-AGE</td>\n",
              "      <td>SOLAR-V1-NO-AGE</td>\n",
              "      <td>SOLAR-V1-NO-AGE</td>\n",
              "      <td>Renewable</td>\n",
              "    </tr>\n",
              "    <tr>\n",
              "      <th>2</th>\n",
              "      <td>Afghanistan</td>\n",
              "      <td>Kandahar JOL</td>\n",
              "      <td>WKS0071196</td>\n",
              "      <td>10.0</td>\n",
              "      <td>31.623</td>\n",
              "      <td>65.7920</td>\n",
              "      <td>Solar</td>\n",
              "      <td>SOLAR-V1-NO-AGE</td>\n",
              "      <td>SOLAR-V1-NO-AGE</td>\n",
              "      <td>SOLAR-V1-NO-AGE</td>\n",
              "      <td>SOLAR-V1-NO-AGE</td>\n",
              "      <td>SOLAR-V1-NO-AGE</td>\n",
              "      <td>Renewable</td>\n",
              "    </tr>\n",
              "    <tr>\n",
              "      <th>3</th>\n",
              "      <td>Afghanistan</td>\n",
              "      <td>Mahipar Hydroelectric Power Plant Afghanistan</td>\n",
              "      <td>GEODB0040541</td>\n",
              "      <td>66.0</td>\n",
              "      <td>34.556</td>\n",
              "      <td>69.4787</td>\n",
              "      <td>Hydro</td>\n",
              "      <td>HYDRO-V1</td>\n",
              "      <td>HYDRO-V1</td>\n",
              "      <td>HYDRO-V1</td>\n",
              "      <td>HYDRO-V1</td>\n",
              "      <td>HYDRO-V1</td>\n",
              "      <td>Renewable</td>\n",
              "    </tr>\n",
              "  </tbody>\n",
              "</table>\n",
              "</div>"
            ],
            "text/plain": [
              "       Country  ... renewable/Non-Renewable\n",
              "0  Afghanistan  ...               Renewable\n",
              "1  Afghanistan  ...               Renewable\n",
              "2  Afghanistan  ...               Renewable\n",
              "3  Afghanistan  ...               Renewable\n",
              "\n",
              "[4 rows x 13 columns]"
            ]
          },
          "metadata": {},
          "execution_count": 30
        }
      ]
    },
    {
      "cell_type": "code",
      "metadata": {
        "colab": {
          "base_uri": "https://localhost:8080/"
        },
        "id": "-E6GAhww1ed6",
        "outputId": "f9cbf78e-3c6b-4bec-b98d-3d8fefcf9f7f"
      },
      "source": [
        "#Finding the total Productions based on the 2 groups:\n",
        "df1.groupby('renewable/Non-Renewable')['Capacity(MW)'].sum().round()"
      ],
      "execution_count": null,
      "outputs": [
        {
          "output_type": "execute_result",
          "data": {
            "text/plain": [
              "renewable/Non-Renewable\n",
              "Non-Renewable    4154929.0\n",
              "Renewable        1552047.0\n",
              "Name: Capacity(MW), dtype: float64"
            ]
          },
          "metadata": {},
          "execution_count": 31
        }
      ]
    },
    {
      "cell_type": "code",
      "metadata": {
        "colab": {
          "base_uri": "https://localhost:8080/",
          "height": 367
        },
        "id": "d7durqUJ1gDD",
        "outputId": "cd0fb6f2-7845-482b-fc5e-2b1e8b40c60a"
      },
      "source": [
        "#Visualising the information above:\n",
        "Z=df1.groupby('renewable/Non-Renewable')['Capacity(MW)'].sum()\n",
        "Z.plot.bar(color=['C5', 'C7'], x='renewable/Non-Renewable', y='Capacity(MW)', rot=0, figsize=(7,5))\n",
        "plt.title(\"Global Energy based on Renewable/Non-renewable Source \")\n",
        "plt.xlabel(\"Type of Energy\")\n",
        "plt.ylabel(\"Capacity Production(mw)\")"
      ],
      "execution_count": null,
      "outputs": [
        {
          "output_type": "execute_result",
          "data": {
            "text/plain": [
              "Text(0, 0.5, 'Capacity Production(mw)')"
            ]
          },
          "metadata": {},
          "execution_count": 32
        },
        {
          "output_type": "display_data",
          "data": {
            "image/png": "[encoded data removed]",
            "text/plain": [
              "<Figure size 504x360 with 1 Axes>"
            ]
          },
          "metadata": {
            "needs_background": "light"
          }
        }
      ]
    },
    {
      "cell_type": "markdown",
      "metadata": {
        "id": "BzDjiauULYQf"
      },
      "source": [
        "The Globe heavily relies on non-renewable energy Sources to Produce Electricity.\n"
      ]
    },
    {
      "cell_type": "markdown",
      "metadata": {
        "id": "nbZncYpXflRH"
      },
      "source": [
        "5. **Countries Leading in**:"
      ]
    },
    {
      "cell_type": "markdown",
      "metadata": {
        "id": "YgQO3mFbI75z"
      },
      "source": [
        "a.) **Renewable Energy Consumption**"
      ]
    },
    {
      "cell_type": "code",
      "metadata": {
        "colab": {
          "base_uri": "https://localhost:8080/"
        },
        "id": "FxJQz0WDfq4v",
        "outputId": "f120893b-1a90-4654-9f82-1718149425fb"
      },
      "source": [
        "#Countries using the Highest renewarbe Energy:\n",
        "df1[df1['renewable/Non-Renewable'] == \"Renewable\"].groupby('Country')['Capacity(MW)'].sum().sort_values(ascending=False).head(5)\n"
      ],
      "execution_count": null,
      "outputs": [
        {
          "output_type": "execute_result",
          "data": {
            "text/plain": [
              "Country\n",
              "China                       364843.88000\n",
              "United States of America    253116.55000\n",
              "Brazil                      122985.52113\n",
              "Canada                       97405.30000\n",
              "India                        75760.98000\n",
              "Name: Capacity(MW), dtype: float64"
            ]
          },
          "metadata": {},
          "execution_count": 95
        }
      ]
    },
    {
      "cell_type": "markdown",
      "metadata": {
        "id": "0d620Wq1I-sX"
      },
      "source": [
        "b.) **Non-Renewable Energy Consumption**"
      ]
    },
    {
      "cell_type": "code",
      "metadata": {
        "colab": {
          "base_uri": "https://localhost:8080/"
        },
        "id": "91mate1Dhqnw",
        "outputId": "cde45d63-b118-4979-fadc-a883c73234df"
      },
      "source": [
        "#Countries using the Highest non-renewarbe Energy:\n",
        "df1[df1['renewable/Non-Renewable'] == \"Non-Renewable\"].groupby('Country')['Capacity(MW)'].sum().sort_values(ascending=False).head(5)"
      ],
      "execution_count": null,
      "outputs": [
        {
          "output_type": "execute_result",
          "data": {
            "text/plain": [
              "Country\n",
              "China                       1050223.500\n",
              "United States of America     951521.500\n",
              "India                        240327.566\n",
              "Japan                        181553.950\n",
              "Russia                       181091.610\n",
              "Name: Capacity(MW), dtype: float64"
            ]
          },
          "metadata": {},
          "execution_count": 96
        }
      ]
    },
    {
      "cell_type": "markdown",
      "metadata": {
        "id": "-vUe8jzKdIVR"
      },
      "source": [
        "6. **Energy in Kenya**"
      ]
    },
    {
      "cell_type": "code",
      "metadata": {
        "id": "oNCUjp0cdLmx",
        "colab": {
          "base_uri": "https://localhost:8080/"
        },
        "outputId": "bdd98da7-374f-4534-bf29-2d94e761a399"
      },
      "source": [
        "#Electricity Production In Kenya:\n",
        "G= df1[df1['Country'] == 'Kenya'].groupby('primary_fuel')['Capacity(MW)'].sum().sort_values(ascending=False)\n",
        "G"
      ],
      "execution_count": null,
      "outputs": [
        {
          "output_type": "execute_result",
          "data": {
            "text/plain": [
              "primary_fuel\n",
              "Hydro         785.2\n",
              "Geothermal    754.0\n",
              "Oil           555.5\n",
              "Wind          335.5\n",
              "Solar          55.7\n",
              "Name: Capacity(MW), dtype: float64"
            ]
          },
          "metadata": {},
          "execution_count": 97
        }
      ]
    },
    {
      "cell_type": "code",
      "metadata": {
        "colab": {
          "base_uri": "https://localhost:8080/",
          "height": 312
        },
        "id": "j1nkPj0tmX2W",
        "outputId": "59bbfe58-abff-418c-d221-722b54a512f8"
      },
      "source": [
        "#Plotting this information:\n",
        "G= df1[df1['Country'] == 'Kenya'].groupby('primary_fuel')['Capacity(MW)'].sum()\n",
        "G.plot.bar(color=['C1', 'C1', 'C5'], x='primary_fuel', y='Capacity(MW)', rot=0)\n",
        "plt.title(\"Generation Sources of Electricity In Kenya \")\n",
        "plt.xlabel(\"Type of Energy\")\n",
        "plt.ylabel(\"Capacity Production(mw)\")"
      ],
      "execution_count": null,
      "outputs": [
        {
          "output_type": "execute_result",
          "data": {
            "text/plain": [
              "Text(0, 0.5, 'Capacity Production(mw)')"
            ]
          },
          "metadata": {},
          "execution_count": 98
        },
        {
          "output_type": "display_data",
          "data": {
            "image/png": "[encoded data removed]",
            "text/plain": [
              "<Figure size 432x288 with 1 Axes>"
            ]
          },
          "metadata": {
            "needs_background": "light"
          }
        }
      ]
    },
    {
      "cell_type": "markdown",
      "metadata": {
        "id": "ThkSOzuBGx4K"
      },
      "source": [
        "From the Information above, it is clear that Kenya relies on Renewable Energy as the Main generation sources of Electricity.\n",
        "\n",
        "As the World advocates for Clean Energy, Most of Kenya's electricity is generated by renewable energy sources something commendable since the Environment is not adversely affected."
      ]
    },
    {
      "cell_type": "markdown",
      "metadata": {
        "id": "pRZAjB6hgxty"
      },
      "source": [
        "# Conclusion\n",
        "From  our analysis, the global relies on Non Renewable Energy sources in electricity production.\n",
        "This are Sources that impact negatively to the environment. \n",
        "\n",
        "For this reason, it’s important to:\n",
        "\n",
        " - promote renewable sources as alternatives.Reducing our reliance on nonrenewable resources and expanding our renewable energy usage is one of the keys to a sustainable future.\n",
        "\n",
        "- Plants that are highly dependent on coal as the primary fuel to embrace several found ways of reducing sulfur and other impurities from coal.\n",
        "\n",
        "- Currently, 70% of the Kenya's installed electricity capacity comes from renewable energy sources. A transition to fully renewable energy could further boost the population’s access to the national power grid and reduce manufacturing production costs."
      ]
    }
  ]
}